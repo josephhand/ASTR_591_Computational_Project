{
 "cells": [
  {
   "cell_type": "markdown",
   "metadata": {},
   "source": [
    "<h1> Age of Stellar Clusters Project</h1>\n",
    "<p1> Welcome! This is the Jupyer Notebook write-up for your semester-long project. Put together by Kurt Hamblin and Dr. Kevin Cooke.</p1>"
   ]
  },
  {
   "cell_type": "markdown",
   "metadata": {},
   "source": [
    "<h4>General jupyter notebook keyboard-shortcurts:</h4>\n",
    "<ul>\n",
    "  <li>shift+enter: run selected cell, select cell below</li>\n",
    "  <li>ctrl+enter: run selected cell</li>\n",
    "  <li>To run all cells: \n",
    "      <ol>\n",
    "          <li>Click: 'Cell'</li>\n",
    "          <li>Click: 'Run All'</li>\n",
    "      </ol>\n",
    "  </li>\n",
    "  <li>To run all cells below/above current selected cell: \n",
    "      <ol>\n",
    "          <li>Click: 'Cell'</li>\n",
    "          <li>Click: 'Run All Below/Above'</li>\n",
    "      </ol>\n",
    "  </li>\n",
    "</ul>\n",
    "\n",
    "<h4>Other General Notes</h4>\n",
    "<ul>\n",
    "    <li><b>Since you have to modify this notebook for your chosen clusters, we recommend you make a copy of this notebook prior to serve as an example as you modify and debug your own version.</b></li>\n",
    "    <li><u>If you change one of your inputs, make sure to re-run all cells below (as per above).</u> When you change a selection, cells below will not reflect that change until they are re-run. If some weird behavior pops up try re-running all below first.</li>\n",
    "    <li>If you are unsure what a piece of code is doing and feel like you need to know, you can likely find examples of it online!</li>\n",
    "    <li>Remember to ask your classmates for help if you need it, especially if this is your first time using Jupyter. There's no shame in asking for help!</li>\n",
    "    <li>This notebook is compatible with either Python 2 or Python 3.</li>\n",
    "</ul>"
   ]
  },
  {
   "cell_type": "markdown",
   "metadata": {},
   "source": [
    "<h3 align='center'>Here we load the packages we need for this project.</h3>\n",
    "Note that if you get errors telling you that python can't this file, this python notebook and the \n",
    "catalog have been separated and must be in the same folder.  A workaround is to give the full path name \n",
    "for the catalog."
   ]
  },
  {
   "cell_type": "code",
   "execution_count": null,
   "metadata": {},
   "outputs": [],
   "source": [
    "from astropy.io import ascii\n",
    "import numpy as np\n",
    "import matplotlib.pyplot as plt\n",
    "import matplotlib\n",
    "\n",
    "#Here we'll use astropy's text import capabilities to load the star catalog we were given\n",
    "#For more info check out: https://docs.astropy.org/en/stable/io/ascii/index.html\n",
    "data = ascii.read(\"cluster_cat.csv\")"
   ]
  },
  {
   "cell_type": "markdown",
   "metadata": {},
   "source": [
    "<h2> Table Management </h2>\n",
    "<p1>For those of you that are experiencing python and data structure for the first time, let's go through some examples of how to figure out what's in your data catalog in the first place. First, let's print out the table:\n",
    "   "
   ]
  },
  {
   "cell_type": "code",
   "execution_count": null,
   "metadata": {},
   "outputs": [],
   "source": [
    "print(data)"
   ]
  },
  {
   "cell_type": "markdown",
   "metadata": {},
   "source": [
    "That's a lot of data, so much data in fact you can see that the table has been \n",
    "compressed as \"...\" for both rows and columns that have been cut\n",
    "\n",
    "We can figure out what columns we have to work with by using the following command:"
   ]
  },
  {
   "cell_type": "code",
   "execution_count": null,
   "metadata": {},
   "outputs": [],
   "source": [
    "data.columns"
   ]
  },
  {
   "cell_type": "markdown",
   "metadata": {},
   "source": [
    "Great!  We now have learned that this table has 8 columns:\n",
    "'source_id','ra','dec','parallax','parallax_err','phot_g_mean_mag','phot_bp_mean_mag','phot_rp_mean_mag'\n",
    "\n",
    "These columns includes the coordinates (RA, DEC) that we want, as well as the magnitude for three different color bands (green, blue, red)\n",
    "\n",
    "How do we specify a value in a column we want to work with?\n",
    "As an example below, I tell python to look at the column named 'source_id', and give me the 0th element (the first entry)"
   ]
  },
  {
   "cell_type": "code",
   "execution_count": null,
   "metadata": {},
   "outputs": [],
   "source": [
    "print(data['source_id'][0]) #this should print out star number 4689624865819376896"
   ]
  },
  {
   "cell_type": "markdown",
   "metadata": {},
   "source": [
    "<h2> Section 1: Data Retrieval and Analysis </h2>\n",
    "<p1>Your first task is to develop plots for the clusters of your choice. Remember, you need to choose <b>(1) Open Cluster</b> and also <b>(1) Globular Cluster</b>! Our first problem, and one common in astronomy, is that the catalog uses different units from your assignment.  You must calculate the decimal notation form of the RA and DEC of your cluster before we move on.  Below are the conversions neccesary.  For this example, I use NGC 3293 for my open cluster and 47 Tuc for my globular cluster.  \n",
    "    \n",
    "<b>CHOOSE A NEW OPEN CLUSTER CLUSTER AND GLOBULAR CLUSTER</b>, then change the below RA and DEC coordinates to your clusters of choice below: \n",
    "    "
   ]
  },
  {
   "cell_type": "code",
   "execution_count": null,
   "metadata": {},
   "outputs": [],
   "source": [
    "#CONVERTS sexigesimal format to decimal format\n",
    "#STUDENT ENTERS COORDINATES OF CLUSTERS OF CHOICE HERE WITHIN THE BRACKETS\n",
    "\n",
    "#For my open cluster example I'm using NGC 3293\n",
    "#STUDENT CHOICE:\n",
    "open_cluster_ra      =     10.*15 +  35./4.  + 49./240.       #hrs*15 + minutes/4 + seconds/240\n",
    "open_cluster_dec     =     -  (58. +  13./60.  + 48./3600. )      # + or -  ( degrees + minutes/60 + seconds/3600 )\n",
    "\n",
    "#For my globular example I'm using 47 Tuc\n",
    "#STUDENT CHOICE:\n",
    "globular_cluster_ra      =     00.*15 +  24./4.  + 05.4/240.       #hrs*15 + minutes/4 + seconds/240\n",
    "globular_cluster_dec     =     -  (72. +  04./60.  + 53.2/3600. )      # + or -  ( degrees + minutes/60 + seconds/3600 )"
   ]
  },
  {
   "cell_type": "markdown",
   "metadata": {},
   "source": [
    "<h3>Locating Matching Stars</h3>\n",
    "<p1>Now that we have the cluster centers in the same format as the list of stars, we can do some math to see how far away each star is from the centers of the clusters we choose.  Then we can set a distance limit to select the stars that only belong to one cluster.  "
   ]
  },
  {
   "cell_type": "code",
   "execution_count": null,
   "metadata": {},
   "outputs": [],
   "source": [
    "#We need to use the full formula calculating the distance between two points on a sphere\n",
    "\n",
    "#define a function that takes the RA and DEC locations of two objects, and returns the distance between them\n",
    "def distance_along_sky(raobject1, decobject1, raobject2, decobject2):\n",
    "    #inputs in degrees\n",
    "    #using the distance along a great circle equation from http://spiff.rit.edu/classes/phys301/lectures/precession/precession.html#sep\n",
    "    #Note, cosine and sine in python use RADIANS as default units\n",
    "    cosy = np.cos(  np.deg2rad(90.-decobject1) )* np.cos(  np.deg2rad(90.-decobject2)  )  +     np.sin(  np.deg2rad(90.-decobject1)  )*np.sin(  np.deg2rad(90.-decobject2))*np.cos(  np.deg2rad(raobject1-raobject2))\n",
    "    angular_distance_radians= np.arccos(cosy)\n",
    "    \n",
    "    #outputs in radians, so let's convert back to degrees to make it easier for us later\n",
    "    angular_distance_degrees=np.rad2deg(angular_distance_radians)\n",
    "    \n",
    "    #this function will print out one value, the distance between two points on a great circle in degrees\n",
    "    return angular_distance_degrees"
   ]
  },
  {
   "cell_type": "code",
   "execution_count": null,
   "metadata": {},
   "outputs": [],
   "source": [
    "#Here I'll tell python to go down the list of RAs and DECs as pairs and use the function we defined above to\n",
    "#calculate the distance for each pair to the provided cluster center\n",
    "\n",
    "distance_from_open     = np.array([distance_along_sky(open_cluster_ra     , open_cluster_dec   ,      x,y  ) for x,y in zip(data['ra'],data['dec'])])\n",
    "\n",
    "distance_from_globular = np.array([distance_along_sky(globular_cluster_ra ,globular_cluster_dec,      x,y  ) for x,y in zip(data['ra'],data['dec'])])\n",
    "\n",
    "#BOTH DISTANCE ARRAYS ARE IN UNITS OF DEGREES"
   ]
  },
  {
   "cell_type": "markdown",
   "metadata": {},
   "source": [
    "<h3>Selecting the Right Stars For Your Plots</h3>\n",
    "<p1>Now we have a long long list of distances.  Each distance array gives you the distance of each star in the catalog from the center of either the open cluster of globular cluster you selected.  But stars on the other side of the sky from the cluster center make no sense to include, so we want to use a distance limit.  Dr. Kirkpatrick recommends that you start with 15' and adjust from there. Use what you learned in class about coordinate systems to write this out, and remember to <b>keep track of your units! </b>"
   ]
  },
  {
   "cell_type": "markdown",
   "metadata": {},
   "source": [
    "<h4>Python Tutorial Time</h4>\n",
    "We can ask python to provide the location of entries in a list that satisfy a given condition.\n",
    "\n",
    "[distance_from_open < 0.25] gives a list of True/False values that say whether a given\n",
    "entry has satisfied our a given condition, in this case the radial distance cutoff.  \n",
    "\n",
    "I use that list of true/false values to only select the values from the list \"distance_from_open\" that satisfy this condition\n",
    "\n",
    "\"distance_from_open[distance_from_open < 0.25]\" gives a list of distances for objects that satisfy our distance requirement\n",
    "\n",
    "We can even use this for other columns since they're all the same length and a single row is always values from the same star. For example\n",
    "\n",
    "\"data['ra'][distance_from_open < 0.25]\" gives a list of Right Ascensions for objects that satisfy our distance requirement"
   ]
  },
  {
   "cell_type": "code",
   "execution_count": null,
   "metadata": {},
   "outputs": [],
   "source": [
    "#Let's run a quick sanity check and ask python to print the length of the list of stars \n",
    "#that satisfy our cutoff of 15 arcmin (aka 0.15 degrees)\n",
    "\n",
    "#This should result in a few thousand matches but change depending on your choice of cluster\n",
    "print('Number of stellar matches for Open Cluster Choice: ',len(distance_from_open[distance_from_open < 0.25]))\n",
    "print('Number of stellar matches for Globular Cluster Choice: ',len(distance_from_globular[distance_from_globular < 0.25]))"
   ]
  },
  {
   "cell_type": "markdown",
   "metadata": {},
   "source": [
    "<h2>Cluster Plots</h2>\n",
    "<p1>Now we know whether each star is in either cluster, so we can go ahead and make plots of the stars in each cluster within the threshold distance you set.</p1>\n"
   ]
  },
  {
   "cell_type": "markdown",
   "metadata": {},
   "source": [
    " <h3>Open Cluster Plot</h3>\n",
    " \n",
    " Let's fulfill our original goal of making a color color plot of a given cluster using the stars we just learned how to find!"
   ]
  },
  {
   "cell_type": "code",
   "execution_count": null,
   "metadata": {},
   "outputs": [],
   "source": [
    "#Let's figure out the arrays we need for our x and y axes\n",
    "\n",
    "#We know from the assignment directions that the x axis is a color difference (blue - red)\n",
    "#We also know the y axis is only the brightness in the red band, that's easier so let's start there\n",
    "\n",
    "#STUDENT CUSTOMIZES THE CLUSTER RADIUS HERE\n",
    "cutoff_radius=0.05 #degrees\n",
    "open_y_red=data['phot_rp_mean_mag'][distance_from_open < cutoff_radius]\n",
    "open_x_bmr=data['phot_bp_mean_mag'][distance_from_open < cutoff_radius]-data['phot_rp_mean_mag'][distance_from_open < cutoff_radius]\n",
    "\n",
    "\n",
    "\n",
    "\n",
    "#Next we start a plot object onto which python will generate the plot we can view\n",
    "fig = plt.figure()\n",
    "ax = fig.add_subplot(111)\n",
    "\n",
    "\n",
    "#Plot the color and magnitude values here!  Make sure to change the points label to be your chosen cluster\n",
    "plt.plot(open_x_bmr,open_y_red,'bo',markersize=2,label='Open Cluster NGC 3293')\n",
    "\n",
    "\n",
    "#Astronomy is weird, so here I set y axis to be inverted by making the lower y bound higher than the upper y bound.\n",
    "#Answer why in question 1.3!\n",
    "plt.axis([-0.25, 3,23, 7])\n",
    "\n",
    "#Whole bunch of formatting lines below to make things look nicer, use for your own plots in other works!\n",
    "plt.legend(loc=3,prop={'size':10},frameon=False)\n",
    "plt.setp(ax.spines.values(), linewidth=2) #Set's outer border thickness\n",
    "ax.get_yaxis().set_tick_params(which='both',direction='in') #Sets the tick marks to face inwards\n",
    "ax.get_xaxis().set_tick_params(which='both',direction='in')\n",
    "plt.xlabel('BLUE-RED',fontsize=15)\n",
    "plt.ylabel('RED',fontsize=15)\n",
    "plt.tick_params(which='major', length=8, width=2) #Customize the size of tick marks\n",
    "plt.tick_params(which='minor', length=3, width=2)\n",
    "\n",
    "#Next we want to see the plot we made\n",
    "plt.show()\n",
    "#fig.savefig('open_cluster_color_mag_diagram.pdf', dpi=800)  #Take away the first # at the beginning of this line to save as a pdf!\n",
    "plt.close()"
   ]
  },
  {
   "cell_type": "markdown",
   "metadata": {},
   "source": [
    " <h3>Globular Cluster Plot</h3>"
   ]
  },
  {
   "cell_type": "code",
   "execution_count": null,
   "metadata": {},
   "outputs": [],
   "source": [
    "#Let's figure out the arrays we need for our x and y axes\n",
    "\n",
    "#We know from the assignment directions that the x axis is a color difference (blue - red)\n",
    "#We also know the x axis is only the brightness in the red band, that's easier so let's start there\n",
    "\n",
    "#STUDENT CUSTOMIZES THE CLUSTER RADIUS HERE\n",
    "cutoff_radius=0.25 #degrees\n",
    "globular_y_red=data['phot_rp_mean_mag'][distance_from_globular < cutoff_radius]\n",
    "globular_x_bmr=data['phot_bp_mean_mag'][distance_from_globular < cutoff_radius]-data['phot_rp_mean_mag'][distance_from_globular < cutoff_radius]\n",
    "\n",
    "\n",
    "\n",
    "\n",
    "fig = plt.figure()\n",
    "ax = fig.add_subplot(111)\n",
    "\n",
    "#Plot the color and magnitude values here!  Make sure to change the points label to be your chosen cluster\n",
    "plt.plot(globular_x_bmr,globular_y_red,'ro',markersize=2,label='Globular Cluster 47 Tuc')\n",
    "\n",
    "#Astronomy is weird, so here I set y axis to be inverted by making the lower y bound higher than the upper y bound.\n",
    "#Answer why in question 1.3!\n",
    "plt.axis([-0.25, 3,23, 7])\n",
    "\n",
    "#Whole bunch of formatting lines below to make things look nicer, use for your own plots in other works!\n",
    "plt.legend(loc=3,prop={'size':10},frameon=False)\n",
    "plt.setp(ax.spines.values(), linewidth=2) #Set's outer border thickness\n",
    "ax.get_yaxis().set_tick_params(which='both',direction='in') #Sets the tick marks to face inwards\n",
    "ax.get_xaxis().set_tick_params(which='both',direction='in')\n",
    "plt.xlabel('BLUE-RED',fontsize=15)\n",
    "plt.ylabel('RED',fontsize=15)\n",
    "plt.tick_params(which='major', length=8, width=2) #Customize the size of tick marks\n",
    "plt.tick_params(which='minor', length=3, width=2)\n",
    "\n",
    "\n",
    "#Next we want to see the plot we made\n",
    "plt.show()\n",
    "#fig.savefig('globular_cluster_color_mag_diagram.pdf', dpi=800)  #Take away the first # at the beginning of this line to save as a pdf!\n",
    "plt.close()"
   ]
  },
  {
   "cell_type": "markdown",
   "metadata": {},
   "source": [
    " <h1>Section 2: Estimating ages using our plots</h1>"
   ]
  },
  {
   "cell_type": "markdown",
   "metadata": {},
   "source": [
    "Now, with our general plots made, we will begin our work into fitting these plots with isochrones to determine the cluster age. First, we must convert our y-axis to be the absolute magnitude in the G_RP band. Write a function for this below:"
   ]
  },
  {
   "cell_type": "code",
   "execution_count": null,
   "metadata": {},
   "outputs": [],
   "source": [
    "#Write a function to return the absolute magnitude of a star knowing its apparent magnitude, m, and its distance, d, in pc\n",
    "#Inputs: apparent magnitude, distance in pc\n",
    "def absolute_M(m, dist):\n",
    "    M = m - 5*np.log10(dist/10)\n",
    "    return M"
   ]
  },
  {
   "cell_type": "markdown",
   "metadata": {},
   "source": [
    "In the following code cell, we load in the isochrone file. The isochrone file formatting requires some careful iteration\n",
    " in order to assemble the actual lines of isochrones on the plots soon to come, but that is all handled here.\n",
    "\n",
    "Isochrone file format: CAREFUL ABOUT numbered column names versus the index of that column.  Example: col1 is the 0th column\n",
    "- col1: logAge [Gyr]\n",
    "- col2: stellar mass [M star]\n",
    "- col3: Luminosity\n",
    "- col4: Temperature\n",
    "- col5: G\n",
    "- col6: G_BP\n",
    "- col7: G_RP"
   ]
  },
  {
   "cell_type": "code",
   "execution_count": null,
   "metadata": {},
   "outputs": [],
   "source": [
    "isochrones = np.loadtxt(\"isochrones.txt\")\n",
    "\n",
    "#This file has several color-magnitude trends for different aged stellar populations, one after another.  \n",
    "#Let's get our bearings by recovering the set of ages that we'll be trying to match to our earlier plots\n",
    "ages=isochrones[:,0]\n",
    "age_list = np.unique(isochrones[:,0]) #This will give us a way to keep track of the isochrone ages, using the first (0th) column\n",
    "iso_labels = [str(age)+' Gyr' for age in age_list   ]  #Ages for each labels to help us later\n",
    "print(age_list, 'Gyr Isochrones Available')\n",
    "\n",
    "#We can also get the color and magnitude information we need\n",
    "iso_GRP = isochrones[:,6] #our \"y-values\",  red brightness in absolute magnitudes\n",
    "iso_GBP_GRP = isochrones[:,5]-isochrones[:,6] #our \"x_values\" blue - red"
   ]
  },
  {
   "cell_type": "markdown",
   "metadata": {},
   "source": [
    "<p1>Now, using the function you wrote for the absolute magnitude, we will convert our previous plots to display this, and we will also overlay the isochrones which we will later fit.</p1>"
   ]
  },
  {
   "cell_type": "markdown",
   "metadata": {},
   "source": [
    "<h3>Open Cluster: Absolute Magnitude</h3> \n",
    "<p1><i>Let's replot our clusters, but using absolute magnitudes for the brightness we plot on the y-axis.  This will enable us to plot both our cluster stars and the isochrones on the same scale.</i>\n"
   ]
  },
  {
   "cell_type": "code",
   "execution_count": null,
   "metadata": {},
   "outputs": [],
   "source": [
    "#We want to plot all the isochrones as indepent lines on our absolute magnitude plots\n",
    "#STUDENT CUSTOMIZES THE CLUSTER CHOICE DISTANCE HERE\n",
    "open_cluster_distance=2750 #pc\n",
    "\n",
    "\n",
    "#Let's figure out the arrays we need for our x and y axes\n",
    "#We know from the assignment directions that the x axis is a color difference (blue - red)\n",
    "#We also know the y axis is only the brightness in the red band, that's easier so let's start there\n",
    "\n",
    "#STUDENT CUSTOMIZES THE CLUSTER RADIUS HERE\n",
    "cutoff_radius=0.05 #degrees\n",
    "open_y_red=data['phot_rp_mean_mag'][distance_from_open < cutoff_radius]\n",
    "open_x_bmr=data['phot_bp_mean_mag'][distance_from_open < cutoff_radius]-data['phot_rp_mean_mag'][distance_from_open < cutoff_radius]\n",
    "\n",
    "#Convert y axis values to absolute magnitudes\n",
    "abs_open_y_red=[absolute_M(x,open_cluster_distance) for x in open_y_red]\n",
    "\n",
    "fig = plt.figure()\n",
    "ax = fig.add_subplot(111)\n",
    "\n",
    "#Plot the color and magnitude values here!  Make sure to change the points label to be your chosen cluster\n",
    "plt.plot(open_x_bmr,abs_open_y_red,'bo',markersize=2,label='Open Cluster NGC 3293')\n",
    "\n",
    "#For each diffrently aged line:\n",
    "for i in range(len(age_list)):\n",
    "    #plot the lines corresponding the red absolute magntiude and blue-red color differences of each individually aged isochrone\n",
    "    plt.plot(iso_GBP_GRP[ages == age_list[i]],iso_GRP[ages == age_list[i]],marker='',linestyle='-',label=str(age_list[i])+' Gyr',alpha=0.2) #alpha controls the opacity of the lines\n",
    "\n",
    "\n",
    "#Astronomy is weird, so here I set y axis to be inverted.  Answer this in question 1.3!\n",
    "plt.axis([-0.25, 3,  8, -6])\n",
    "\n",
    "#Whole bunch of formatting lines below to make things look nicer, use for your own plots in other works!\n",
    "plt.legend(loc=2,prop={'size':10},frameon=False, bbox_to_anchor=(1.05, 1))\n",
    "plt.setp(ax.spines.values(), linewidth=2) #Set's outer border thickness\n",
    "ax.get_yaxis().set_tick_params(which='both',direction='in') #Sets the tick marks to face inwards\n",
    "ax.get_xaxis().set_tick_params(which='both',direction='in')\n",
    "plt.xlabel('BLUE-RED',fontsize=15)\n",
    "plt.ylabel('ABSOLUTE RED',fontsize=15)\n",
    "plt.tick_params(which='major', length=8, width=2) #Customize the size of tick marks\n",
    "plt.tick_params(which='minor', length=3, width=2)\n",
    "\n",
    "#Next we want to see the plot we made\n",
    "plt.show()\n",
    "#fig.savefig('isochrone_abs_open_cluster_color_mag_diagram.pdf', dpi=800)  #Take away the first # at the beginning of this line to save as a pdf!\n",
    "plt.close()"
   ]
  },
  {
   "cell_type": "markdown",
   "metadata": {},
   "source": [
    "<h3>Globular Cluster: Absolute Magnitude</h3>\n",
    "<p1><i>Let's replot our clusters, but using absolute magnitudes for the brightness we plot on the y-axis.  This will enable us to plot both our cluster stars and the isochrones on the same scale.</i>"
   ]
  },
  {
   "cell_type": "code",
   "execution_count": null,
   "metadata": {},
   "outputs": [],
   "source": [
    "#Let's figure out the arrays we need for our x and y axes\n",
    "#STUDENT CUSTOMIZES THE CLUSTER CHOICE DISTANCE HERE\n",
    "globular_cluster_distance=4001 #pc\n",
    "\n",
    "#We know from the assignment directions that the x axis is a color difference (blue - red)\n",
    "#We also know the x axis is only the brightness in the red band, that's easier so let's start there\n",
    "\n",
    "#STUDENT CUSTOMIZES THE CLUSTER RADIUS HERE\n",
    "cutoff_radius=0.15 #degrees\n",
    "globular_y_red=data['phot_rp_mean_mag'][distance_from_globular < cutoff_radius]\n",
    "globular_x_bmr=data['phot_bp_mean_mag'][distance_from_globular < cutoff_radius]-data['phot_rp_mean_mag'][distance_from_globular < cutoff_radius]\n",
    "\n",
    "#Convert y axis values to absolute magnitudes\n",
    "abs_globular_y_red=[absolute_M(x,globular_cluster_distance) for x in globular_y_red]\n",
    "\n",
    "fig = plt.figure()\n",
    "ax = fig.add_subplot(111)\n",
    "\n",
    "#Plot the color and magnitude values here!  Make sure to change the points label to be your chosen cluster\n",
    "plt.plot(globular_x_bmr,abs_globular_y_red,'ro',markersize=2,label='Globular Cluster 47 Tuc')\n",
    "\n",
    "#For each diffrently aged line:\n",
    "for i in range(len(age_list)):\n",
    "    #plot the lines corresponding the red absolute magntiude and blue-red color differences of each individually aged isochrone\n",
    "    plt.plot(iso_GBP_GRP[ages == age_list[i]],iso_GRP[ages == age_list[i]],marker='',linestyle='-',label=str(age_list[i])+' Gyr', alpha=0.2)  #alpha controls the opacity of the lines\n",
    "\n",
    "\n",
    "#Astronomy is weird, so here I set y axis to be inverted.  Answer this in question 1.3!\n",
    "plt.axis([-0.25, 3,8, -6])\n",
    "\n",
    "#Whole bunch of formatting lines below to make things look nicer, use for your own plots in other works!\n",
    "plt.legend(loc=2,prop={'size':10},frameon=False, bbox_to_anchor=(1.05, 1))\n",
    "plt.setp(ax.spines.values(), linewidth=2) #Set's outer border thickness\n",
    "ax.get_yaxis().set_tick_params(which='both',direction='in') #Sets the tick marks to face inwards\n",
    "ax.get_xaxis().set_tick_params(which='both',direction='in')\n",
    "plt.xlabel('BLUE-RED',fontsize=15)\n",
    "plt.ylabel('ABSOLUTE RED',fontsize=15)\n",
    "plt.tick_params(which='major', length=8, width=2) #Customize the size of tick marks\n",
    "plt.tick_params(which='minor', length=3, width=2)\n",
    "\n",
    "#Next we want to see the plot we made\n",
    "plt.show()\n",
    "#fig.savefig('globular_cluster_color_mag_diagram.pdf', dpi=800)  #Take away the first # at the beginning of this line to save as a pdf!\n",
    "plt.close()"
   ]
  },
  {
   "cell_type": "markdown",
   "metadata": {},
   "source": [
    "<h2>Final Sample Trimming: Parallax</h2>\n",
    "<p1>You will now perform one more sample cut on your clusters by using Parallax. Adjust the parallax thresholds below until you are confident that all the stars displayed are actually in your clusters. Note that these thresholds are in pc.</p1>"
   ]
  },
  {
   "cell_type": "code",
   "execution_count": null,
   "metadata": {},
   "outputs": [],
   "source": [
    "#Now we modify our original selection to use more than one criteria to selection stars, this time adding parallax\n",
    "#This changes the format to require each condition to use () and the symbol & to combine conditions\n",
    "\n",
    "\n",
    "#Let's figure out the arrays we need for our x and y axes\n",
    "#We know from the assignment directions that the x axis is a color difference (blue - red)\n",
    "#We also know the y axis is only the brightness in the red band, that's easier so let's start there\n",
    "\n",
    "#STUDENT CUSTOMIZES CLUSTER RADIUS HERE\n",
    "cutoff_radius=0.05 #degrees\n",
    "\n",
    "#STUDENT CUSTOMIZES PARALLAX RANGE HERE\n",
    "lower_cutoff_parallax=0.3\n",
    "upper_cutoff_parallax=0.5\n",
    "\n",
    "\n",
    "open_y_red=data['phot_rp_mean_mag'][(distance_from_open < cutoff_radius) & (data['parallax'] > lower_cutoff_parallax) & (data['parallax'] < upper_cutoff_parallax)]\n",
    "open_x_bmr=data['phot_bp_mean_mag'][(distance_from_open < cutoff_radius) & (data['parallax'] > lower_cutoff_parallax) & (data['parallax'] < upper_cutoff_parallax)]-data['phot_rp_mean_mag'][(distance_from_open < cutoff_radius) & (data['parallax'] > lower_cutoff_parallax) & (data['parallax'] < upper_cutoff_parallax)]\n",
    "\n",
    "#STUDENT CUSTOMIZES CLUSTER DISTANCE HERE\n",
    "open_cluster_distance=2750 #pc\n",
    "abs_open_y_red=[absolute_M(x,open_cluster_distance) for x in open_y_red]\n",
    "\n",
    "fig = plt.figure()\n",
    "ax = fig.add_subplot(111)\n",
    "\n",
    "#Plot the color and magnitude values here!  Make sure to change the points label to be your chosen cluster\n",
    "plt.plot(open_x_bmr,abs_open_y_red,'bo',markersize=2,label='Open Cluster NGC 3293')\n",
    "\n",
    "#For each diffrently aged line:\n",
    "for i in range(len(age_list)):\n",
    "    #plot the lines corresponding the red absolute magntiude and blue-red color differences of each individually aged isochrone\n",
    "    plt.plot(iso_GBP_GRP[ages == age_list[i]],iso_GRP[ages == age_list[i]],marker='',linestyle='-',label=str(age_list[i])+' Gyr',alpha=0.2)\n",
    "\n",
    "\n",
    "#Astronomy is weird, so here I set y axis to be inverted.  Answer this in question 1.3!\n",
    "plt.axis([-0.25, 3,8, -6])\n",
    "\n",
    "#Whole bunch of formatting lines below to make things look nicer, use for your own plots in other works!\n",
    "plt.legend(loc=2,prop={'size':10},frameon=False, bbox_to_anchor=(1.05, 1))\n",
    "plt.setp(ax.spines.values(), linewidth=2) #Set's outer border thickness\n",
    "ax.get_yaxis().set_tick_params(which='both',direction='in') #Sets the tick marks to face inwards\n",
    "ax.get_xaxis().set_tick_params(which='both',direction='in')\n",
    "plt.xlabel('BLUE-RED',fontsize=15)\n",
    "plt.ylabel('ABSOLUTE RED',fontsize=15)\n",
    "plt.tick_params(which='major', length=8, width=2) #Customize the size of tick marks\n",
    "plt.tick_params(which='minor', length=3, width=2)\n",
    "\n",
    "#Next we want to see the plot we made\n",
    "plt.show()\n",
    "#fig.savefig('parallax_isochrone_abs_open_cluster_color_mag_diagram.pdf', dpi=800)  #Take away the first # at the beginning of this line to save as a pdf!\n",
    "plt.close()"
   ]
  },
  {
   "cell_type": "code",
   "execution_count": null,
   "metadata": {},
   "outputs": [],
   "source": [
    "#Let's figure out the arrays we need for our x and y axes\n",
    "\n",
    "#We know from the assignment directions that the x axis is a color difference (blue - red)\n",
    "#We also know the x axis is only the brightness in the red band, that's easier so let's start there\n",
    "\n",
    "\n",
    "\n",
    "\n",
    "\n",
    "#STUDENT CUSTOMIZES CLUSTER RADIUS HERE\n",
    "cutoff_radius=0.15 #degrees\n",
    "\n",
    "#STUDENT CUSTOMIZES CLUSTER PARALLAX RANGE HERE\n",
    "lower_cutoff_parallax=0.1\n",
    "upper_cutoff_parallax=0.3\n",
    "globular_y_red=data['phot_rp_mean_mag'][(distance_from_globular < cutoff_radius) & (data['parallax'] > lower_cutoff_parallax) & (data['parallax'] < upper_cutoff_parallax)]\n",
    "globular_x_bmr=data['phot_bp_mean_mag'][(distance_from_globular < cutoff_radius) & (data['parallax'] > lower_cutoff_parallax) & (data['parallax'] < upper_cutoff_parallax)]-data['phot_rp_mean_mag'][(distance_from_globular < cutoff_radius) & (data['parallax'] > lower_cutoff_parallax) & (data['parallax'] < upper_cutoff_parallax)]\n",
    "\n",
    "#STUDENT CUSTOMIZES CLUSTER DISTANCE HERE\n",
    "globular_cluster_distance=4001 #pc\n",
    "abs_globular_y_red=[absolute_M(x,globular_cluster_distance) for x in globular_y_red]\n",
    "\n",
    "fig = plt.figure()\n",
    "ax = fig.add_subplot(111)\n",
    "\n",
    "#Plot the color and magnitude values here!  Make sure to change the points label to be your chosen cluster\n",
    "plt.plot(globular_x_bmr,abs_globular_y_red,'ro',markersize=2,label='Globular Cluster 47 Tuc')\n",
    "\n",
    "#For each diffrently aged line:\n",
    "for i in range(len(age_list)):\n",
    "    #plot the lines corresponding the red absolute magntiude and blue-red color differences of each individually aged isochrone\n",
    "    plt.plot(iso_GBP_GRP[ages == age_list[i]],iso_GRP[ages == age_list[i]],marker='',linestyle='-',label=str(age_list[i])+' Gyr',alpha=0.2)\n",
    "\n",
    "\n",
    "#Astronomy is weird, so here I set y axis to be inverted.  Answer this in question 1.3!\n",
    "plt.axis([-0.25, 3,8, -6])\n",
    "\n",
    "#Whole bunch of formatting lines below to make things look nicer, use for your own plots in other works!\n",
    "plt.legend(loc=2,prop={'size':10},frameon=False, bbox_to_anchor=(1.05, 1))\n",
    "plt.setp(ax.spines.values(), linewidth=2) #Set's outer border thickness\n",
    "ax.get_yaxis().set_tick_params(which='both',direction='in') #Sets the tick marks to face inwards\n",
    "ax.get_xaxis().set_tick_params(which='both',direction='in')\n",
    "plt.xlabel('BLUE-RED',fontsize=15)\n",
    "plt.ylabel('ABSOLUTE RED',fontsize=15)\n",
    "plt.tick_params(which='major', length=8, width=2) #Customize the size of tick marks\n",
    "plt.tick_params(which='minor', length=3, width=2)\n",
    "\n",
    "#Next we want to see the plot we made\n",
    "plt.show()\n",
    "#fig.savefig('parallax_globular_cluster_color_mag_diagram.pdf', dpi=800)  #Take away the first # at the beginning of this line to save as a pdf!\n",
    "plt.close()"
   ]
  },
  {
   "cell_type": "markdown",
   "metadata": {},
   "source": [
    "<h2>Reddening</h2>\n",
    "<p1>Now, you must correct for reddening in the plots above. Reddening decreases the brightness in the blue bands (making the blue color more positive.  Correcting for reddening will move the points to the left, towards a bluer color.</p1>"
   ]
  },
  {
   "cell_type": "code",
   "execution_count": null,
   "metadata": {},
   "outputs": [],
   "source": [
    "#Let's figure out the arrays we need for our x and y axes\n",
    "\n",
    "#We know from the assignment directions that the x axis is a color difference (blue - red)\n",
    "#We also know the x axis is only the brightness in the red band, that's easier so let's start there\n",
    "\n",
    "\n",
    "\n",
    "\n",
    "\n",
    "#STUDENT CUSTOMIZES CLUSTER RADIUS HERE\n",
    "cutoff_radius=0.15 #degrees\n",
    "\n",
    "#STUDENT CUSTOMIZES CLUSTER PARALLAX RANGE HERE\n",
    "lower_cutoff_parallax=0.1\n",
    "upper_cutoff_parallax=0.3\n",
    "\n",
    "globular_y_red=data['phot_rp_mean_mag'][(distance_from_globular < cutoff_radius) & (data['parallax'] > lower_cutoff_parallax) & (data['parallax'] < upper_cutoff_parallax)]\n",
    "globular_x_bmr=data['phot_bp_mean_mag'][(distance_from_globular < cutoff_radius) & (data['parallax'] > lower_cutoff_parallax) & (data['parallax'] < upper_cutoff_parallax)]-data['phot_rp_mean_mag'][(distance_from_globular < cutoff_radius) & (data['parallax'] > lower_cutoff_parallax) & (data['parallax'] < upper_cutoff_parallax)]\n",
    "\n",
    "\n",
    "#Reddening will affect our color estimate (x-axis) because reddening will remove light as a function of wavelength\n",
    "#here I experiment with a reddening value and add it to the color difference points we just found\n",
    "\n",
    "#STUDENT CUSTOMIZES CLUSTER REDDENING HERE\n",
    "ext_blue_red=0.0\n",
    "dereddened_globular_x_bmr=[x-ext_blue_red for x in globular_x_bmr] #We subtract to make the colors more negative, aka blue-er, replacing the lost blue light\n",
    "\n",
    "#STUDENT CUSTOMIZES CLUSTER DISTANCE HERE\n",
    "globular_cluster_distance=4001 #pc\n",
    "abs_globular_y_red=[absolute_M(x,globular_cluster_distance) for x in globular_y_red]\n",
    "\n",
    "fig = plt.figure()\n",
    "ax = fig.add_subplot(111)\n",
    "\n",
    "#Plot the color and magnitude values here!  Make sure to change the points label to be your chosen cluster\n",
    "plt.plot(dereddened_globular_x_bmr,abs_globular_y_red,'ro',markersize=2,label='Globular Cluster 47 Tuc')\n",
    "\n",
    "#For each diffrently aged line:\n",
    "for i in range(len(age_list)):\n",
    "    #plot the lines corresponding the red absolute magntiude and blue-red color differences of each individually aged isochrone\n",
    "    plt.plot(iso_GBP_GRP[ages == age_list[i]],iso_GRP[ages == age_list[i]],marker='',linestyle='-',label=str(age_list[i])+' Gyr',alpha=0.2)\n",
    "\n",
    "\n",
    "#Astronomy is weird, so here I set y axis to be inverted.  Answer this in question 1.3!\n",
    "plt.axis([-0.25, 3,8, -6])\n",
    "\n",
    "#Whole bunch of formatting lines below to make things look nicer, use for your own plots in other works!\n",
    "plt.legend(loc=2,prop={'size':10},frameon=False, bbox_to_anchor=(1.05, 1))\n",
    "plt.setp(ax.spines.values(), linewidth=2) #Set's outer border thickness\n",
    "ax.get_yaxis().set_tick_params(which='both',direction='in') #Sets the tick marks to face inwards\n",
    "ax.get_xaxis().set_tick_params(which='both',direction='in')\n",
    "plt.xlabel('BLUE-RED',fontsize=15)\n",
    "plt.ylabel('ABSOLUTE RED',fontsize=15)\n",
    "plt.tick_params(which='major', length=8, width=2) #Customize the size of tick marks\n",
    "plt.tick_params(which='minor', length=3, width=2)\n",
    "\n",
    "#Next we want to see the plot we made\n",
    "plt.show()\n",
    "#fig.savefig('dereddened_parallax_globular_cluster_color_mag_diagram.pdf', dpi=800)  #Take away the first # at the beginning of this line to save as a pdf!\n",
    "plt.close()"
   ]
  },
  {
   "cell_type": "code",
   "execution_count": null,
   "metadata": {},
   "outputs": [],
   "source": [
    "#Now we modify our original selection to use more than one criteria to selection stars, this time adding parallax\n",
    "#This changes the format to require each condition to use () and the symbol & to combine conditions\n",
    "\n",
    "\n",
    "#Let's figure out the arrays we need for our x and y axes\n",
    "#We know from the assignment directions that the x axis is a color difference (blue - red)\n",
    "#We also know the y axis is only the brightness in the red band, that's easier so let's start there\n",
    "\n",
    "#STUDENT CUSTOMIZES CLUSTER RADIUS HERE\n",
    "cutoff_radius=0.05 #degrees\n",
    "\n",
    "#STUDENT CUSTOMIZES CLUSTER PARALLAX HERE\n",
    "lower_cutoff_parallax=0.3\n",
    "upper_cutoff_parallax=0.5\n",
    "\n",
    "open_y_red=data['phot_rp_mean_mag'][(distance_from_open < cutoff_radius) & (data['parallax'] > lower_cutoff_parallax) & (data['parallax'] < upper_cutoff_parallax)]\n",
    "open_x_bmr=data['phot_bp_mean_mag'][(distance_from_open < cutoff_radius) & (data['parallax'] > lower_cutoff_parallax) & (data['parallax'] < upper_cutoff_parallax)]-data['phot_rp_mean_mag'][(distance_from_open < cutoff_radius) & (data['parallax'] > lower_cutoff_parallax) & (data['parallax'] < upper_cutoff_parallax)]\n",
    "\n",
    "\n",
    "\n",
    "#Reddening will affect our color estimate (x-axis) because reddening will remove light as a function of wavelength\n",
    "#here I experiment with a reddening value and add it to the color difference points we just found\n",
    "\n",
    "#STUDENT CUSTOMIZES CLUSTER REDDENING HERE\n",
    "ext_blue_red=0.3\n",
    "dereddened_open_x_bmr=[x-ext_blue_red for x in open_x_bmr] #We subtract to make the colors more negative, aka blue-er, replacing the lost blue light\n",
    "\n",
    "\n",
    "\n",
    "#STUDENT CUSTOMIZES CLUSTER DISTANCE HERE\n",
    "open_cluster_distance=2750 #pc\n",
    "abs_open_y_red=[absolute_M(x,open_cluster_distance) for x in open_y_red]\n",
    "\n",
    "fig = plt.figure()\n",
    "ax = fig.add_subplot(111)\n",
    "\n",
    "#Plot the color and magnitude values here!  Make sure to change the points label to be your chosen cluster\n",
    "plt.plot(dereddened_open_x_bmr,abs_open_y_red,'bo',markersize=2,label='Open Cluster NGC 3293')\n",
    "\n",
    "#For each diffrently aged line:\n",
    "for i in range(len(age_list)):\n",
    "    #plot the lines corresponding the red absolute magntiude and blue-red color differences of each individually aged isochrone\n",
    "    plt.plot(iso_GBP_GRP[ages == age_list[i]],iso_GRP[ages == age_list[i]],marker='',linestyle='-',label=str(age_list[i])+' Gyr',alpha=0.2)\n",
    "\n",
    "\n",
    "#Astronomy is weird, so here I set y axis to be inverted.  Answer this in question 1.3!\n",
    "plt.axis([-0.25, 3,8, -6])\n",
    "\n",
    "#Whole bunch of formatting lines below to make things look nicer, use for your own plots in other works!\n",
    "plt.legend(loc=2,prop={'size':10},frameon=False, bbox_to_anchor=(1.05, 1))\n",
    "plt.setp(ax.spines.values(), linewidth=2) #Set's outer border thickness\n",
    "ax.get_yaxis().set_tick_params(which='both',direction='in') #Sets the tick marks to face inwards\n",
    "ax.get_xaxis().set_tick_params(which='both',direction='in')\n",
    "plt.xlabel('BLUE-RED',fontsize=15)\n",
    "plt.ylabel('ABSOLUTE RED',fontsize=15)\n",
    "plt.tick_params(which='major', length=8, width=2) #Customize the size of tick marks\n",
    "plt.tick_params(which='minor', length=3, width=2)\n",
    "\n",
    "#Next we want to see the plot we made\n",
    "plt.show()\n",
    "#fig.savefig('dereddened_parallax_isochrone_abs_open_cluster_color_mag_diagram.pdf', dpi=800)  #Take away the first # at the beginning of this line to save as a pdf!\n",
    "plt.close()\n"
   ]
  },
  {
   "cell_type": "markdown",
   "metadata": {},
   "source": [
    "<h3> Final Plots </h3>\n",
    "<p1>Now you will make your final plots which will contain only the best-fit isochrone that you choose.</p1>\n",
    "\n",
    "<ul>\n",
    "    <li><b>You must make two plots (one for each cluster choice) by using the code snippets above to plot the cluster members for your open and globular clusters with ONLY the best fit isochrone for each</b></li>\n",
    "    <li>Look at your plots above that include all the available isochrones choices, and learn how to specify only a specific isochrone line to plot</li>\n",
    "    <li>If you are unsure what a piece of code is doing and feel like you need to know, you can likely find examples of it online!</li>\n",
    "    <li>Remember to ask your classmates for help if you need it, especially if this is your first time using Jupyter. There's no shame in asking for help!</li>\n",
    "</ul>"
   ]
  },
  {
   "cell_type": "code",
   "execution_count": null,
   "metadata": {},
   "outputs": [],
   "source": [
    "#STUDENT FINAL PLOTS GO HERE, GOOD LUCK!"
   ]
  },
  {
   "cell_type": "code",
   "execution_count": null,
   "metadata": {},
   "outputs": [],
   "source": []
  }
 ],
 "metadata": {
  "kernelspec": {
   "display_name": "Python 3 (ipykernel)",
   "language": "python",
   "name": "python3"
  },
  "language_info": {
   "codemirror_mode": {
    "name": "ipython",
    "version": 3
   },
   "file_extension": ".py",
   "mimetype": "text/x-python",
   "name": "python",
   "nbconvert_exporter": "python",
   "pygments_lexer": "ipython3",
   "version": "3.11.5"
  }
 },
 "nbformat": 4,
 "nbformat_minor": 4
}
